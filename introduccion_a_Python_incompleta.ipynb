{
  "cells": [
    {
      "cell_type": "markdown",
      "source": [
        "# Entorno Jupyter Notebook\n",
        "\n",
        "* ### Este es un entorno más bien para uso didáctico, que permite intercarlar código con texto en formato markdown. Resulta útil como primera aproximación a programa en Python.\n",
        "\n",
        "* ### Jupyter Notebook se puede usar online desde Google Colab: https://colab.research.google.com/\n",
        "\n",
        "* ### Una alternativa intermedia es instalar Anaconda: https://www.anaconda.com/download, el cual instala automáticamente Python, Jupyter Notebook y todo lo que vamos a necesitar.\n",
        "\n",
        "* ### Por supuesto usted puede usar Python de manera más profesional, y como probablemente lo use en cualquier ámbito laboral, e instalar Python y usarlo a través de un editor o una IDE.\n",
        "\n",
        "* ### Puede instalar Python desde acá: https://www.python.org/ (¡si usa linux ya lo tiene instalado!)\n",
        "\n",
        "* ### Puede elegir algún editor o IDE desde acá: https://docs.python.org/3/using/editors.html\n",
        "\n",
        "* ### Algunos editores/IDEs populares son: Atom, Eclipse, Netbeans, PyCharm, Spyder, Sublime, Visual Studio Code, Notepad++. ¡Pero elija cualquier de su agrado!"
      ],
      "metadata": {
        "id": "eO10ODai4zjf"
      }
    },
    {
      "cell_type": "markdown",
      "source": [
        "# Popularidad de uso de Python\n",
        "\n",
        "### [Tiobe index](https://www.tiobe.com/tiobe-index/)\n"
      ],
      "metadata": {
        "id": "maoHKTUZycGP"
      }
    },
    {
      "cell_type": "markdown",
      "source": [
        "# Material de estudio/consulta para Python:\n",
        "\n",
        "### Ver \"Bibliografía\" en el Campus.\n"
      ],
      "metadata": {
        "id": "YTkQJxTs1ShV"
      }
    },
    {
      "cell_type": "markdown",
      "source": [
        "# Python como calculadora"
      ],
      "metadata": {
        "id": "9NMriwq-wM3O"
      }
    },
    {
      "cell_type": "code",
      "execution_count": null,
      "source": [
        "# suma/resta\n"
      ],
      "outputs": [],
      "metadata": {
        "id": "FTbObhB5wM3R"
      }
    },
    {
      "cell_type": "code",
      "execution_count": null,
      "source": [
        "# producto/cociente\n"
      ],
      "outputs": [],
      "metadata": {
        "id": "N2hfvwXVwM3T"
      }
    },
    {
      "cell_type": "code",
      "execution_count": null,
      "source": [
        "# potencia (probar enteros, floats, fracciones)"
      ],
      "outputs": [],
      "metadata": {
        "id": "OPeWMH5MwM3U"
      }
    },
    {
      "cell_type": "markdown",
      "source": [
        "# Variables y asignaciones"
      ],
      "metadata": {
        "id": "I1F-c_SkwM3W"
      }
    },
    {
      "cell_type": "code",
      "execution_count": null,
      "source": [
        "# asignación\n"
      ],
      "outputs": [],
      "metadata": {
        "id": "7QA_iBgBwM3X"
      }
    },
    {
      "cell_type": "code",
      "execution_count": null,
      "source": [
        "# imprimir por pantalla"
      ],
      "outputs": [],
      "metadata": {
        "id": "gjd-iI3nwM3Y"
      }
    },
    {
      "cell_type": "code",
      "execution_count": null,
      "source": [
        "# doble asignación e imprimir\n"
      ],
      "outputs": [],
      "metadata": {
        "id": "ESF9BodBwM3a"
      }
    },
    {
      "cell_type": "code",
      "execution_count": null,
      "source": [
        "# asignación NO funciona como un signo de igual: ejemplito\n"
      ],
      "outputs": [],
      "metadata": {
        "id": "RjNAI37EwM3c"
      }
    },
    {
      "cell_type": "code",
      "source": [
        "# Asignación que se pisa: imprimir valor viejo y valor nuevo"
      ],
      "metadata": {
        "id": "HS95r4_qLlIm"
      },
      "execution_count": null,
      "outputs": []
    },
    {
      "cell_type": "markdown",
      "source": [
        "# Vectores, matrices, y el épsilon de la máquina"
      ],
      "metadata": {
        "id": "fc1qMlnow6V0"
      }
    },
    {
      "cell_type": "code",
      "source": [
        "import numpy as np\n",
        "# documentación: https://numpy.org/doc/stable/index.html\n",
        "\n",
        "\n",
        "# épsilon de la máquina\n",
        "#eps = np.finfo(float).eps\n",
        "#print(eps)\n",
        "\n",
        "\n",
        "# vector = # np.array...\n",
        "# imprimir vector\n",
        "\n",
        "\n",
        "# matriz = # np.array ...\n",
        "# imprimir matriz\n",
        "\n",
        "\n",
        "# Creación de arrays: https://numpy.org/doc/stable/reference/routines.array-creation.html#\n",
        "# Manipulación de arrays: https://numpy.org/doc/stable/reference/routines.array-manipulation.html\n",
        "\n",
        "\n",
        "#Algunos ejemplitos de acceder, recortar, etc.\n",
        "#acceder al 10 del vector1\n",
        "\n",
        "\n",
        "#acceder desde el 10 en adelante del vector1\n",
        "\n",
        "\n",
        "#acceder al 30 de la matriz1\n",
        "\n",
        "\n",
        "#acceder a la primer fila de matriz1\n",
        "\n",
        "\n",
        "# acceder al 1 y al 30 de la matriz1\n",
        "\n",
        "\n",
        "\n",
        "# EJERCICIOS\n",
        "\n",
        "# acceder a la tercer columna de la matriz\n",
        "\n",
        "\n",
        "# acceder a la submatriz de 2x2 de la esquina inferior derecha.\n",
        "\n",
        "\n",
        "# acceder al segundo y tercer elemento de vector1\n"
      ],
      "metadata": {
        "id": "Yuz62TRbw_Fe"
      },
      "execution_count": null,
      "outputs": []
    },
    {
      "cell_type": "markdown",
      "source": [
        "# Ciclicos y condicionales"
      ],
      "metadata": {
        "id": "8FZkCFKpzJW1"
      }
    },
    {
      "cell_type": "code",
      "source": [
        "#la identación sirve para....\n",
        "\n",
        "# ¿por qué está bueno usar vector, vector2, etc? Relacionarlo con lo anterior de pisar variables con otra asignación\n",
        "\n",
        "\n",
        "\n",
        "\n",
        "# Quiero hacer un vector que tenga todos los numeros enteros del 1 al 100\n",
        "# lo podemos hacer a mano con np.array([1,2,3...]) pero uffff :(\n",
        "\n",
        "# vector = np.array( [] ) #array vacío\n",
        "\n",
        "# for agregando el valor del índice al final del array\n",
        "# imprimir dentro y fuera del for el vector y ver la diferencia\n",
        "\n",
        "\n",
        "\n",
        "\n",
        "# ídem antes con algún condicional adentro del for\n",
        "# por ej. que agregue el valor si es par\n",
        "\n",
        "\n",
        "\n",
        "\n",
        "# vector3 = np.array( [] ) #array vacío\n",
        "# lo mismo que el primer caso pero con un while y un contador\n",
        "\n",
        "\n",
        "\n",
        "\n",
        "# EJERCICIOS\n",
        "\n",
        "# 1. ¿Qué hace este código? No lo ejecute.\n",
        "# for i in range(5): #de paso recordar el comportamiento por defecto del range, pues en realidad es inicio, fin+paso, paso\n",
        "\n",
        "#   if i == 2:\n",
        "#     print(i)\n",
        "\n",
        "\n",
        "#2. ¿Qué hace este código? No lo ejecute.\n",
        "# n = 10\n",
        "# while n > -1:\n",
        "#   if n == 0:\n",
        "#     print('Blastoff!')\n",
        "#     break\n",
        "#   n = n - 1\n",
        "#   print(n)\n",
        "\n",
        "\n",
        "#3. puede ir algún ejercicio de for/while si es que está el tiempo."
      ],
      "metadata": {
        "id": "8lJ-jy6zzL0f"
      },
      "execution_count": null,
      "outputs": []
    },
    {
      "cell_type": "markdown",
      "source": [
        "# Graficar funciones\n",
        "\n",
        "- ### Objetivo: graficar $\\sin(x)$ para $x$ entre -5 y 7"
      ],
      "metadata": {
        "id": "d9nKNg7GwM3e"
      }
    },
    {
      "cell_type": "code",
      "execution_count": null,
      "source": [
        "import numpy as np #paquete para manejar arreglos\n",
        "from matplotlib import pyplot as plt #para graficar\n",
        "\n",
        "# Detalle técnico: no darle bola.\n",
        "plt.rcParams[\"figure.figsize\"] = (10,5) #tamaño de los gráficos: ancho x alto"
      ],
      "outputs": [],
      "metadata": {
        "id": "3S44JGHAwM3f"
      }
    },
    {
      "cell_type": "code",
      "execution_count": null,
      "source": [
        "# Aquí se puede discutir 5 min. la ventaja de definir funciones.\n",
        "\n",
        "#definir la funcion sen(x)\n",
        "\n",
        "# algunos ejemplos de uso llamándola"
      ],
      "outputs": [],
      "metadata": {
        "id": "_vG4wyaPwM3g"
      }
    },
    {
      "cell_type": "code",
      "execution_count": null,
      "source": [
        "# array de valors de x (con linspace por ej.)\n",
        "# valores_x =\n",
        "# print(valores_x)"
      ],
      "outputs": [],
      "metadata": {
        "id": "ffzvn3HOwM3h"
      }
    },
    {
      "cell_type": "code",
      "execution_count": null,
      "source": [
        "# ídem para valores de y\n",
        "# observar que se evalúa la función en todo un vector de valores\n",
        "\n",
        "# valores_y =\n",
        "# print(valores_y)"
      ],
      "outputs": [],
      "metadata": {
        "id": "GWX1pbiowM3h"
      }
    },
    {
      "cell_type": "code",
      "execution_count": null,
      "source": [
        "# gráfico de la función bien básico\n",
        "\n",
        "\n",
        "# se puede contar, luego de que se pongan con el ejercicio de abajo, lo de\n",
        "# plt.plot(valores_x, valores_y, '*') para que no una los puntos por rectas (splines lineales)\n",
        "# y se vea más claramente que está graficando puntos (en particular en el caso de 10 puntos)"
      ],
      "outputs": [],
      "metadata": {
        "id": "Cu1sgeZwwM3i"
      }
    },
    {
      "cell_type": "markdown",
      "source": [
        "## Ejercicio: graficar a $g(x)=x^2+2x-3$ para $x$ entre -2 y 3.\n",
        "\n",
        "### Primero con `linspace` con 1000 puntos\n",
        "### Segundo con `linspace` con 10 puntos\n",
        "\n",
        "### ¿Qué diferencia observa?"
      ],
      "metadata": {
        "id": "1rxn827uwsGp"
      }
    },
    {
      "cell_type": "markdown",
      "source": [
        "--------\n",
        "## Ejercicio: ver NB de acumulación de errores\n",
        "\n",
        "## Ejercicio: hacer 9 y 10 de la práctica 1."
      ],
      "metadata": {
        "id": "AR-qwshEvbMi"
      }
    }
  ],
  "metadata": {
    "kernelspec": {
      "display_name": "Python 3 (ipykernel)",
      "language": "python",
      "name": "python3"
    },
    "language_info": {
      "codemirror_mode": {
        "name": "ipython",
        "version": 3
      },
      "file_extension": ".py",
      "mimetype": "text/x-python",
      "name": "python",
      "nbconvert_exporter": "python",
      "pygments_lexer": "ipython3",
      "version": "3.8.5"
    },
    "colab": {
      "provenance": []
    }
  },
  "nbformat": 4,
  "nbformat_minor": 0
}